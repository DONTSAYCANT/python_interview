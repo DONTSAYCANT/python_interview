{
 "cells": [
  {
   "cell_type": "code",
   "execution_count": null,
   "metadata": {},
   "outputs": [],
   "source": [
    "#class object attributes methods self init\n",
    "    #https://www.geeksforgeeks.org/python-programming-language/\n",
    "\n",
    "#Class method static method Abstract method\n",
    "    #https://www.geeksforgeeks.org/class-method-vs-static-method-python/\n",
    "\n",
    "#inheritance and types super function\n",
    "\n",
    "#magic methods\n",
    "\n",
    "#Access modifiers public, private (__), Protected (_)\n",
    "\n",
    "#Encpsulation\n",
    "#Data abstraction or data hiding\n",
    "\n",
    "#Over riding\n",
    "\n",
    "#Polymorpism\n",
    "\n",
    "#Operator overloading\n",
    "\n",
    "\n",
    "#Four pillars: Abstraction, Encapsulation, Inheritance, Polymoriphism  (AEIP)"
   ]
  },
  {
   "cell_type": "code",
   "execution_count": null,
   "metadata": {},
   "outputs": [],
   "source": [
    "#Class ==> Noun super hero\n",
    "#Attribute ==> Adjective ==> red cap, blue dress, shoes\n",
    "#Methods ==> Verb ==> Fly, spin etc...\n",
    "\n",
    "#Attribute Error\n"
   ]
  },
  {
   "cell_type": "code",
   "execution_count": 8,
   "metadata": {},
   "outputs": [],
   "source": [
    "class vehicle:\n",
    "    type_engine = \"diesel\"\n",
    "    mileage = 30\n",
    "    color = \"blue\""
   ]
  },
  {
   "cell_type": "code",
   "execution_count": 9,
   "metadata": {},
   "outputs": [],
   "source": [
    "royal = vehicle()"
   ]
  },
  {
   "cell_type": "code",
   "execution_count": 10,
   "metadata": {},
   "outputs": [
    {
     "data": {
      "text/plain": [
       "'diesel'"
      ]
     },
     "execution_count": 10,
     "metadata": {},
     "output_type": "execute_result"
    }
   ],
   "source": [
    "royal.type_engine"
   ]
  },
  {
   "cell_type": "code",
   "execution_count": 11,
   "metadata": {},
   "outputs": [
    {
     "data": {
      "text/plain": [
       "30"
      ]
     },
     "execution_count": 11,
     "metadata": {},
     "output_type": "execute_result"
    }
   ],
   "source": [
    "royal.mileage"
   ]
  },
  {
   "cell_type": "code",
   "execution_count": 12,
   "metadata": {},
   "outputs": [
    {
     "data": {
      "text/plain": [
       "['__class__',\n",
       " '__delattr__',\n",
       " '__dict__',\n",
       " '__dir__',\n",
       " '__doc__',\n",
       " '__eq__',\n",
       " '__format__',\n",
       " '__ge__',\n",
       " '__getattribute__',\n",
       " '__gt__',\n",
       " '__hash__',\n",
       " '__init__',\n",
       " '__init_subclass__',\n",
       " '__le__',\n",
       " '__lt__',\n",
       " '__module__',\n",
       " '__ne__',\n",
       " '__new__',\n",
       " '__reduce__',\n",
       " '__reduce_ex__',\n",
       " '__repr__',\n",
       " '__setattr__',\n",
       " '__sizeof__',\n",
       " '__str__',\n",
       " '__subclasshook__',\n",
       " '__weakref__',\n",
       " 'color',\n",
       " 'mileage',\n",
       " 'type_engine']"
      ]
     },
     "execution_count": 12,
     "metadata": {},
     "output_type": "execute_result"
    }
   ],
   "source": [
    "dir(vehicle)"
   ]
  },
  {
   "cell_type": "code",
   "execution_count": 13,
   "metadata": {},
   "outputs": [],
   "source": [
    "#Empty class creation\n",
    "class vehicle1:\n",
    "    pass"
   ]
  },
  {
   "cell_type": "code",
   "execution_count": 14,
   "metadata": {},
   "outputs": [],
   "source": [
    "#Class veriable or class attribute (changing class attribute will change all object created from class)\n",
    "vehicle1.tyre_type = \"Tubeless\""
   ]
  },
  {
   "cell_type": "code",
   "execution_count": 15,
   "metadata": {},
   "outputs": [
    {
     "data": {
      "text/plain": [
       "['__class__',\n",
       " '__delattr__',\n",
       " '__dict__',\n",
       " '__dir__',\n",
       " '__doc__',\n",
       " '__eq__',\n",
       " '__format__',\n",
       " '__ge__',\n",
       " '__getattribute__',\n",
       " '__gt__',\n",
       " '__hash__',\n",
       " '__init__',\n",
       " '__init_subclass__',\n",
       " '__le__',\n",
       " '__lt__',\n",
       " '__module__',\n",
       " '__ne__',\n",
       " '__new__',\n",
       " '__reduce__',\n",
       " '__reduce_ex__',\n",
       " '__repr__',\n",
       " '__setattr__',\n",
       " '__sizeof__',\n",
       " '__str__',\n",
       " '__subclasshook__',\n",
       " '__weakref__',\n",
       " 'tyre_type']"
      ]
     },
     "execution_count": 15,
     "metadata": {},
     "output_type": "execute_result"
    }
   ],
   "source": [
    "dir(vehicle1)"
   ]
  },
  {
   "cell_type": "code",
   "execution_count": 16,
   "metadata": {},
   "outputs": [
    {
     "data": {
      "text/plain": [
       "'Tubeless'"
      ]
     },
     "execution_count": 16,
     "metadata": {},
     "output_type": "execute_result"
    }
   ],
   "source": [
    "obj1 = vehicle1()\n",
    "obj1.tyre_type"
   ]
  },
  {
   "cell_type": "code",
   "execution_count": 17,
   "metadata": {},
   "outputs": [],
   "source": [
    "#Object veriable or object attribute\n",
    "obj1.tyre_type = \"With tube\""
   ]
  },
  {
   "cell_type": "code",
   "execution_count": 18,
   "metadata": {},
   "outputs": [],
   "source": [
    "obj2 = vehicle1()"
   ]
  },
  {
   "cell_type": "code",
   "execution_count": 19,
   "metadata": {},
   "outputs": [
    {
     "data": {
      "text/plain": [
       "'Tubeless'"
      ]
     },
     "execution_count": 19,
     "metadata": {},
     "output_type": "execute_result"
    }
   ],
   "source": [
    "obj2.tyre_type"
   ]
  },
  {
   "cell_type": "code",
   "execution_count": 26,
   "metadata": {},
   "outputs": [
    {
     "name": "stdout",
     "output_type": "stream",
     "text": [
      "function1 called here in the year  1996\n",
      "function2 called here in the year\n"
     ]
    }
   ],
   "source": [
    "#calling a method with arguement and without arguement\n",
    "class vehicle3:\n",
    "    mileage = 40\n",
    "    speed = 50\n",
    "    color = \"Blue\"\n",
    "    \n",
    "    def function1(self, year): #local attribute\n",
    "        print(\"function1 called here in the year \",year)\n",
    "        \n",
    "    def function2(self):\n",
    "        print(\"function2 called here in the year\")\n",
    "        #print(\"function2 called here in the year\", year) #Error, year is local attribute\n",
    "        \n",
    "\n",
    "v1 = vehicle3()\n",
    "v1.function1(1996)\n",
    "v1.function2()"
   ]
  },
  {
   "cell_type": "code",
   "execution_count": 31,
   "metadata": {},
   "outputs": [
    {
     "name": "stdout",
     "output_type": "stream",
     "text": [
      "function1 called here in the year  1996\n",
      "function2 called here in the year\n",
      "Function 3 called here 1 day delivery\n"
     ]
    }
   ],
   "source": [
    "#Init default function automatically called when class instantiated through object (attributes common through object creation)\n",
    "class vehicle4:\n",
    "    mileage = 40\n",
    "    speed = 50\n",
    "    color = \"Blue\"\n",
    "    def __init__(self, manuf, delivery):\n",
    "        self.manuf = manuf\n",
    "        self.delivery = delivery\n",
    "    def function1(self, year): #local attribute\n",
    "        print(\"function1 called here in the year \",year)\n",
    "        \n",
    "    def function2(self):\n",
    "        print(\"function2 called here in the year\")\n",
    "        #print(\"function2 called here in the year\", year) #Error, year is local attribute\\\n",
    "    \n",
    "    def function3(self):\n",
    "        print(\"Function 3 called here\", self.delivery)\n",
    "        \n",
    "\n",
    "v1 = vehicle4(\"Honda\", \"1 day delivery\")\n",
    "v1.function1(1996)\n",
    "v1.function2()\n",
    "v1.function3()"
   ]
  },
  {
   "cell_type": "code",
   "execution_count": 34,
   "metadata": {},
   "outputs": [
    {
     "name": "stdout",
     "output_type": "stream",
     "text": [
      "<__main__.vehicle4 object at 0x000001CE3159B9C8>\n",
      "<class '__main__.vehicle4'>\n",
      "1985102854600\n"
     ]
    }
   ],
   "source": [
    "print(v1)\n",
    "print(vehicle4)\n",
    "print(id(v1))"
   ]
  },
  {
   "cell_type": "code",
   "execution_count": 48,
   "metadata": {},
   "outputs": [
    {
     "name": "stdout",
     "output_type": "stream",
     "text": [
      "calling obje create function\n",
      "Object creation started\n",
      "__init method called\n",
      "Object creation done\n",
      "Destructor called\n",
      "ending intimation\n"
     ]
    }
   ],
   "source": [
    "class vehicle4:\n",
    "    mileage = 40\n",
    "    speed = 50\n",
    "    color = \"Blue\"\n",
    "    def __init__(self):\n",
    "        print(\"__init method called\")\n",
    "    def __del__(self):\n",
    "        print(\"destructor called here\")\n",
    "        \n",
    "        \n",
    "def obj_creation():\n",
    "    print(\"Object creation started\")\n",
    "    obj = vehicle4()\n",
    "    print(\"Object creation done\")\n",
    "    return obj\n",
    "\n",
    "print(\"calling obje create function\")\n",
    "obj = obj_creation()\n",
    "print(\"ending intimation\")"
   ]
  },
  {
   "cell_type": "markdown",
   "metadata": {},
   "source": [
    "# Self parameter"
   ]
  },
  {
   "cell_type": "code",
   "execution_count": 107,
   "metadata": {},
   "outputs": [
    {
     "name": "stdout",
     "output_type": "stream",
     "text": [
      "function1 called here in the year  1996\n",
      "function2 called here in the year\n",
      "function2 called here in the year\n",
      "function1 called here in the year  1996\n"
     ]
    }
   ],
   "source": [
    "#calling a method with arguement and without arguement\n",
    "class vehicle3:\n",
    "    mileage = 40\n",
    "    speed = 50\n",
    "    color = \"Blue\"\n",
    "    \n",
    "    def function1(self, year): #local attribute\n",
    "        print(\"function1 called here in the year \",year)\n",
    "        \n",
    "    def function2(self):\n",
    "        print(\"function2 called here in the year\")\n",
    "        #print(\"function2 called here in the year\", year) #Error, year is local attribute\n",
    "        \n",
    "\n",
    "#Common way for class and object\n",
    "v1 = vehicle3()\n",
    "v1.function1(1996)\n",
    "v1.function2()\n",
    "\n",
    "#self actual usage (carries it's own object) ==> Not a common way\n",
    "vehicle3.function2(v1)\n",
    "vehicle3.function1(v1,1996)"
   ]
  },
  {
   "cell_type": "code",
   "execution_count": 112,
   "metadata": {},
   "outputs": [
    {
     "name": "stdout",
     "output_type": "stream",
     "text": [
      "function1 called here in the year  1996\n",
      "owner details function 1 single\n",
      "Condition details function 2 Good\n",
      "function2 called here in the year\n",
      "owner details function 2 single\n"
     ]
    },
    {
     "ename": "AttributeError",
     "evalue": "'vehicle3' object has no attribute 'condition'",
     "output_type": "error",
     "traceback": [
      "\u001b[1;31m---------------------------------------------------------------------------\u001b[0m",
      "\u001b[1;31mAttributeError\u001b[0m                            Traceback (most recent call last)",
      "\u001b[1;32m<ipython-input-112-622ce52716fd>\u001b[0m in \u001b[0;36m<module>\u001b[1;34m\u001b[0m\n\u001b[0;32m     23\u001b[0m \u001b[0mv1\u001b[0m \u001b[1;33m=\u001b[0m \u001b[0mvehicle3\u001b[0m\u001b[1;33m(\u001b[0m\u001b[1;33m)\u001b[0m\u001b[1;33m\u001b[0m\u001b[1;33m\u001b[0m\u001b[0m\n\u001b[0;32m     24\u001b[0m \u001b[0mv1\u001b[0m\u001b[1;33m.\u001b[0m\u001b[0mfunction1\u001b[0m\u001b[1;33m(\u001b[0m\u001b[1;36m1996\u001b[0m\u001b[1;33m)\u001b[0m\u001b[1;33m\u001b[0m\u001b[1;33m\u001b[0m\u001b[0m\n\u001b[1;32m---> 25\u001b[1;33m \u001b[0mv1\u001b[0m\u001b[1;33m.\u001b[0m\u001b[0mfunction2\u001b[0m\u001b[1;33m(\u001b[0m\u001b[1;33m)\u001b[0m\u001b[1;33m\u001b[0m\u001b[1;33m\u001b[0m\u001b[0m\n\u001b[0m",
      "\u001b[1;32m<ipython-input-112-622ce52716fd>\u001b[0m in \u001b[0;36mfunction2\u001b[1;34m(self)\u001b[0m\n\u001b[0;32m     16\u001b[0m         \u001b[0mprint\u001b[0m\u001b[1;33m(\u001b[0m\u001b[1;34m\"function2 called here in the year\"\u001b[0m\u001b[1;33m)\u001b[0m\u001b[1;33m\u001b[0m\u001b[1;33m\u001b[0m\u001b[0m\n\u001b[0;32m     17\u001b[0m         \u001b[0mprint\u001b[0m\u001b[1;33m(\u001b[0m\u001b[1;34m\"owner details function 2\"\u001b[0m\u001b[1;33m,\u001b[0m \u001b[0mself\u001b[0m\u001b[1;33m.\u001b[0m\u001b[0mowner\u001b[0m\u001b[1;33m)\u001b[0m\u001b[1;33m\u001b[0m\u001b[1;33m\u001b[0m\u001b[0m\n\u001b[1;32m---> 18\u001b[1;33m         \u001b[0mprint\u001b[0m\u001b[1;33m(\u001b[0m\u001b[1;34m\"Condition details function 2\"\u001b[0m\u001b[1;33m,\u001b[0m \u001b[0mself\u001b[0m\u001b[1;33m.\u001b[0m\u001b[0mcondition\u001b[0m\u001b[1;33m)\u001b[0m \u001b[1;31m#Error\u001b[0m\u001b[1;33m\u001b[0m\u001b[1;33m\u001b[0m\u001b[0m\n\u001b[0m\u001b[0;32m     19\u001b[0m         \u001b[0mprint\u001b[0m\u001b[1;33m(\u001b[0m\u001b[1;34m\"Condition details function 2\"\u001b[0m\u001b[1;33m,\u001b[0m \u001b[0mcondition\u001b[0m\u001b[1;33m)\u001b[0m \u001b[1;31m#Error\u001b[0m\u001b[1;33m\u001b[0m\u001b[1;33m\u001b[0m\u001b[0m\n\u001b[0;32m     20\u001b[0m \u001b[1;33m\u001b[0m\u001b[0m\n",
      "\u001b[1;31mAttributeError\u001b[0m: 'vehicle3' object has no attribute 'condition'"
     ]
    }
   ],
   "source": [
    "#condition parameter, will be accessibbe if it's received with self (own object)\n",
    "#Without self we can create and use it inside same method not with other method\n",
    "\n",
    "class vehicle3:\n",
    "    mileage = 40\n",
    "    speed = 50\n",
    "    color = \"Blue\"\n",
    "    \n",
    "    def function1(self, year): #local attribute\n",
    "        print(\"function1 called here in the year \",year)\n",
    "        self.owner = \"single\"\n",
    "        condition = \"Good\"\n",
    "        print(\"owner details function 1\", self.owner)\n",
    "        print(\"Condition details function 2\", condition)\n",
    "        \n",
    "    def function2(self):\n",
    "        print(\"function2 called here in the year\")\n",
    "        print(\"owner details function 2\", self.owner)\n",
    "        print(\"Condition details function 2\", self.condition) #Error\n",
    "        print(\"Condition details function 2\", condition) #Error\n",
    "        \n",
    "\n",
    "#Common way for class and object\n",
    "v1 = vehicle3()\n",
    "v1.function1(1996)\n",
    "v1.function2()\n"
   ]
  },
  {
   "cell_type": "code",
   "execution_count": null,
   "metadata": {},
   "outputs": [],
   "source": [
    "\n",
    "single inheritance ===> (parent ==> child)\n",
    "\n",
    "Multiple inheritance  ===> (parent1, parent2 ==> child)\n",
    "\n",
    "multilevel ==> (grand parent, parent, child)\n",
    "\n",
    "hierarchical  ===>  (parent, child1, child2)\n",
    "\n",
    "Hybrid ===> Combination of two or more \n"
   ]
  },
  {
   "cell_type": "code",
   "execution_count": 50,
   "metadata": {},
   "outputs": [
    {
     "name": "stdout",
     "output_type": "stream",
     "text": [
      "Parent class values:  11 12\n",
      "child class values:  11 12 13 14\n"
     ]
    }
   ],
   "source": [
    "#Single inheritance\n",
    "\n",
    "class parent:\n",
    "    def __init__(self, value1, value2):\n",
    "        self.value1 = value1\n",
    "        self.value2 = value2\n",
    "        print(\"Parent class values: \", self.value1, self.value2)\n",
    "        \n",
    "class child(parent):\n",
    "    def __init__(self, value3, value4):\n",
    "        self.value3 = value3\n",
    "        self.value4 = value4\n",
    "        parent.__init__(self,11,12)\n",
    "        print(\"child class values: \", self.value1, self.value2, self.value3, self.value4)\n",
    "        \n",
    "obj1 = child(13,14)\n",
    "     \n",
    "\n",
    "        "
   ]
  },
  {
   "cell_type": "code",
   "execution_count": 54,
   "metadata": {},
   "outputs": [
    {
     "name": "stdout",
     "output_type": "stream",
     "text": [
      "Parent1 class values:  11 12\n",
      "Parent2 class values:  13 14\n",
      "child class values:  11 12 13 14 15 16\n"
     ]
    }
   ],
   "source": [
    "#Multiple inheritance\n",
    "\n",
    "class parent1:\n",
    "    def __init__(self, value1, value2):\n",
    "        self.value1 = value1\n",
    "        self.value2 = value2\n",
    "        print(\"Parent1 class values: \", self.value1, self.value2)\n",
    "\n",
    "class parent2:\n",
    "    def __init__(self, value3, value4):\n",
    "        self.value3 = value3\n",
    "        self.value4 = value4\n",
    "        print(\"Parent2 class values: \", self.value3, self.value4)\n",
    "        \n",
    "class child(parent1):\n",
    "    def __init__(self, value5, value6):\n",
    "        self.value5 = value5\n",
    "        self.value6 = value6\n",
    "        parent1.__init__(self,11,12)\n",
    "        parent2.__init__(self,13,14)\n",
    "        print(\"child class values: \", self.value1, self.value2, self.value3, self.value4,self.value5, self.value6)\n",
    "        \n",
    "obj1 = child(15,16)\n",
    "     \n"
   ]
  },
  {
   "cell_type": "code",
   "execution_count": 56,
   "metadata": {},
   "outputs": [
    {
     "name": "stdout",
     "output_type": "stream",
     "text": [
      "Grand Parent class values:  11 12\n",
      "Parent class values:  13 14\n",
      "child class values:  11 12 13 14 15 16\n"
     ]
    }
   ],
   "source": [
    "#Multilevel inheritance\n",
    "\n",
    "class grand_parent:\n",
    "    def __init__(self, value1, value2):\n",
    "        self.value1 = value1\n",
    "        self.value2 = value2\n",
    "        print(\"Grand Parent class values: \", self.value1, self.value2)\n",
    "\n",
    "class parent(grand_parent):\n",
    "    def __init__(self, value3, value4):\n",
    "        self.value3 = value3\n",
    "        self.value4 = value4\n",
    "        print(\"Parent class values: \", self.value3, self.value4)\n",
    "        \n",
    "class child(parent):\n",
    "    def __init__(self, value5, value6):\n",
    "        self.value5 = value5\n",
    "        self.value6 = value6\n",
    "        grand_parent.__init__(self,11,12)\n",
    "        parent.__init__(self,13,14)\n",
    "        print(\"child class values: \", self.value1, self.value2, self.value3, self.value4,self.value5, self.value6)\n",
    "        \n",
    "obj1 = child(15,16)"
   ]
  },
  {
   "cell_type": "code",
   "execution_count": 58,
   "metadata": {},
   "outputs": [
    {
     "name": "stdout",
     "output_type": "stream",
     "text": [
      "Parent1 class values:  11 12\n",
      "child1 class values:  11 12 13 14\n",
      "Parent1 class values:  11 12\n",
      "child2 class values:  11 12 15 16\n"
     ]
    }
   ],
   "source": [
    "#Hierarchical inheritance\n",
    "\n",
    "class parent:\n",
    "    def __init__(self, value1, value2):\n",
    "        self.value1 = value1\n",
    "        self.value2 = value2\n",
    "        print(\"Parent1 class values: \", self.value1, self.value2)\n",
    "\n",
    "class child1(parent):\n",
    "    def __init__(self, value5, value6):\n",
    "        self.value5 = value5\n",
    "        self.value6 = value6\n",
    "        parent.__init__(self,11,12)\n",
    "        print(\"child1 class values: \", self.value1, self.value2, self.value5, self.value6)\n",
    "        \n",
    "class child2(parent):\n",
    "    def __init__(self, value3, value4):\n",
    "        self.value3 = value3\n",
    "        self.value4 = value4\n",
    "        parent1.__init__(self,11,12)\n",
    "        print(\"child2 class values: \", self.value1, self.value2, self.value3, self.value4)\n",
    "        \n",
    "obj1 = child1(13,14)\n",
    "obj1 = child2(15,16)\n",
    "     \n"
   ]
  },
  {
   "cell_type": "code",
   "execution_count": 65,
   "metadata": {},
   "outputs": [
    {
     "name": "stdout",
     "output_type": "stream",
     "text": [
      "21\n"
     ]
    },
    {
     "ename": "AttributeError",
     "evalue": "'D' object has no attribute 'd'",
     "output_type": "error",
     "traceback": [
      "\u001b[1;31m---------------------------------------------------------------------------\u001b[0m",
      "\u001b[1;31mAttributeError\u001b[0m                            Traceback (most recent call last)",
      "\u001b[1;32m<ipython-input-65-669bbcbb24ff>\u001b[0m in \u001b[0;36m<module>\u001b[1;34m\u001b[0m\n\u001b[0;32m     16\u001b[0m \u001b[1;31m# produces an error as d is private instance variable\u001b[0m\u001b[1;33m\u001b[0m\u001b[1;33m\u001b[0m\u001b[1;33m\u001b[0m\u001b[0m\n\u001b[0;32m     17\u001b[0m \u001b[0mprint\u001b[0m\u001b[1;33m(\u001b[0m\u001b[0mobject1\u001b[0m\u001b[1;33m.\u001b[0m\u001b[0mc\u001b[0m\u001b[1;33m)\u001b[0m\u001b[1;33m\u001b[0m\u001b[1;33m\u001b[0m\u001b[0m\n\u001b[1;32m---> 18\u001b[1;33m \u001b[0mprint\u001b[0m\u001b[1;33m(\u001b[0m\u001b[0mobject1\u001b[0m\u001b[1;33m.\u001b[0m\u001b[0md\u001b[0m\u001b[1;33m)\u001b[0m\u001b[1;33m\u001b[0m\u001b[1;33m\u001b[0m\u001b[0m\n\u001b[0m",
      "\u001b[1;31mAttributeError\u001b[0m: 'D' object has no attribute 'd'"
     ]
    }
   ],
   "source": [
    "# Python program to demonstrate private members \n",
    "# of the parent class \n",
    "class C(object): \n",
    "       def __init__(self): \n",
    "              self.c = 21\n",
    "  \n",
    "              # d is private instance variable  \n",
    "              self.__d = 42     ##Private access modifier\n",
    "\n",
    "class D(C): \n",
    "       def __init__(self): \n",
    "              self.e = 84\n",
    "              C.__init__(self) \n",
    "object1 = D() \n",
    "  \n",
    "# produces an error as d is private instance variable \n",
    "print(object1.c) \n",
    "print(object1.d) "
   ]
  },
  {
   "cell_type": "markdown",
   "metadata": {},
   "source": [
    "# Super function"
   ]
  },
  {
   "cell_type": "code",
   "execution_count": 68,
   "metadata": {},
   "outputs": [
    {
     "name": "stdout",
     "output_type": "stream",
     "text": [
      "function3 from class 2\n"
     ]
    },
    {
     "ename": "AttributeError",
     "evalue": "'class2' object has no attribute 'function1'",
     "output_type": "error",
     "traceback": [
      "\u001b[1;31m---------------------------------------------------------------------------\u001b[0m",
      "\u001b[1;31mAttributeError\u001b[0m                            Traceback (most recent call last)",
      "\u001b[1;32m<ipython-input-68-9ddef7488445>\u001b[0m in \u001b[0;36m<module>\u001b[1;34m\u001b[0m\n\u001b[0;32m     14\u001b[0m \u001b[0mcls2_obj\u001b[0m \u001b[1;33m=\u001b[0m \u001b[0mclass2\u001b[0m\u001b[1;33m(\u001b[0m\u001b[1;33m)\u001b[0m\u001b[1;33m\u001b[0m\u001b[1;33m\u001b[0m\u001b[0m\n\u001b[0;32m     15\u001b[0m \u001b[0mcls2_obj\u001b[0m\u001b[1;33m.\u001b[0m\u001b[0mfunction3\u001b[0m\u001b[1;33m(\u001b[0m\u001b[1;33m)\u001b[0m\u001b[1;33m\u001b[0m\u001b[1;33m\u001b[0m\u001b[0m\n\u001b[1;32m---> 16\u001b[1;33m \u001b[0mcls2_obj\u001b[0m\u001b[1;33m.\u001b[0m\u001b[0mfunction1\u001b[0m\u001b[1;33m(\u001b[0m\u001b[1;33m)\u001b[0m\u001b[1;33m\u001b[0m\u001b[1;33m\u001b[0m\u001b[0m\n\u001b[0m",
      "\u001b[1;31mAttributeError\u001b[0m: 'class2' object has no attribute 'function1'"
     ]
    }
   ],
   "source": [
    "#Normal class and object\n",
    "class class1:\n",
    "    def function1(self):\n",
    "        print(\"function1 from class 1\")\n",
    "    def function2(self):\n",
    "        print(\"function2 from class 1\")\n",
    "        \n",
    "class class2:\n",
    "    def function3(self):\n",
    "        print(\"function3 from class 2\")\n",
    "    def function4(self):\n",
    "        print(\"function4 from class 2\")\n",
    "        \n",
    "cls2_obj = class2()\n",
    "cls2_obj.function3()\n",
    "cls2_obj.function1()"
   ]
  },
  {
   "cell_type": "code",
   "execution_count": 70,
   "metadata": {},
   "outputs": [
    {
     "name": "stdout",
     "output_type": "stream",
     "text": [
      "function3 from class 2\n",
      "function1 from class 1\n"
     ]
    }
   ],
   "source": [
    "#Normal class and object with single inheritance\n",
    "class class1:\n",
    "    def function1(self):\n",
    "        print(\"function1 from class 1\")\n",
    "    def function2(self):\n",
    "        print(\"function2 from class 1\")\n",
    "        \n",
    "class class2(class1): #Single inheritance\n",
    "    def function3(self):\n",
    "        print(\"function3 from class 2\")\n",
    "    def function4(self):\n",
    "        print(\"function4 from class 2\")\n",
    "        \n",
    "cls2_obj = class2()\n",
    "cls2_obj.function3()\n",
    "cls2_obj.function1()"
   ]
  },
  {
   "cell_type": "code",
   "execution_count": 74,
   "metadata": {},
   "outputs": [
    {
     "name": "stdout",
     "output_type": "stream",
     "text": [
      "function1 from class 1\n",
      "function1 from class 1\n",
      "function3 from class 2\n"
     ]
    }
   ],
   "source": [
    "#Normal class and object with single inheritance, calling parent method from child\n",
    "class class1:\n",
    "    def function1(self):\n",
    "        print(\"function1 from class 1\")\n",
    "    def function2(self):\n",
    "        print(\"function2 from class 1\")\n",
    "        \n",
    "class class2(class1): #Single inheritance\n",
    "    def function3(self):\n",
    "        class1.function1(self) #self required while calling through parent class\n",
    "        super().function1() #self not required through super function\n",
    "        print(\"function3 from class 2\")\n",
    "    def function4(self):\n",
    "        print(\"function4 from class 2\")\n",
    "        \n",
    "cls2_obj = class2()\n",
    "cls2_obj.function3()"
   ]
  },
  {
   "cell_type": "code",
   "execution_count": 89,
   "metadata": {},
   "outputs": [
    {
     "name": "stdout",
     "output_type": "stream",
     "text": [
      "function3 from class 2\n",
      "function3 from class 2\n",
      "function4 from class 2\n"
     ]
    }
   ],
   "source": [
    "#calling own member function (calling methods inside a class)\n",
    "class class1:\n",
    "    def function1(self):\n",
    "        print(\"function1 from class 1\")\n",
    "    def function2(self):\n",
    "        print(\"function2 from class 1\")\n",
    "    def function3(self):\n",
    "        print(\"function3 from class 1\")\n",
    "        \n",
    "class class11():\n",
    "    def function33(self):\n",
    "        print(\"function3 from class 2\")\n",
    "    def function44(self):\n",
    "        self.function33() #Calling own class function method\n",
    "        class11.function33(self) #Calling own class function method\n",
    "        print(\"function4 from class 2\")\n",
    "        \n",
    "cls2_obj = class11()\n",
    "cls2_obj.function44()"
   ]
  },
  {
   "cell_type": "code",
   "execution_count": 90,
   "metadata": {},
   "outputs": [
    {
     "name": "stdout",
     "output_type": "stream",
     "text": [
      "function2 from class 2\n",
      "function2 from class 2\n"
     ]
    }
   ],
   "source": [
    "#Normal class and object with single inheritance and method overriding\n",
    "class class1:\n",
    "    def function1(self):\n",
    "        print(\"function1 from class 1\")\n",
    "    def function2(self):\n",
    "        print(\"function2 from class 1\")\n",
    "        \n",
    "class class2(class1): #Single inheritance\n",
    "    def function2(self):\n",
    "        print(\"function2 from class 2\")\n",
    "    def function4(self):\n",
    "        print(\"function4 from class 2\")\n",
    "        \n",
    "cls2_obj = class2()\n",
    "#own class's method is called or priortized first (function2 at available in parent and child class)\n",
    "cls2_obj.function2()\n",
    "cls2_obj.function2()"
   ]
  },
  {
   "cell_type": "code",
   "execution_count": 91,
   "metadata": {},
   "outputs": [
    {
     "name": "stdout",
     "output_type": "stream",
     "text": [
      "function2 from class 1\n",
      "function2 from class 1\n"
     ]
    }
   ],
   "source": [
    "#method overriding in multiple inheritance\n",
    "class class1:\n",
    "    def function1(self):\n",
    "        print(\"function1 from class 1\")\n",
    "    def function2(self):\n",
    "        print(\"function2 from class 1\")\n",
    "        \n",
    "class class11:\n",
    "    def function1(self):\n",
    "        print(\"function1 from class 11\")\n",
    "    def function2(self):\n",
    "        print(\"function2 from class 11\")\n",
    "        \n",
    "class class2(class1,class11): #multiple inheritance\n",
    "    def function3(self):\n",
    "        print(\"function2 from class 2\")\n",
    "    def function4(self):\n",
    "        print(\"function4 from class 2\")\n",
    "        \n",
    "cls2_obj = class2()\n",
    "cls2_obj.function2()\n",
    "cls2_obj.function2()\n",
    "\n"
   ]
  },
  {
   "cell_type": "code",
   "execution_count": 93,
   "metadata": {},
   "outputs": [
    {
     "name": "stdout",
     "output_type": "stream",
     "text": [
      "function2 from class 1\n",
      "function2 from class 2\n"
     ]
    }
   ],
   "source": [
    "#super() function call\n",
    "class class1:\n",
    "    def function1(self):\n",
    "        print(\"function1 from class 1\")\n",
    "    def function2(self):\n",
    "        print(\"function2 from class 1\")\n",
    "        \n",
    "class class11:\n",
    "    def function1(self):\n",
    "        print(\"function1 from class 11\")\n",
    "    def function2(self):\n",
    "        print(\"function2 from class 11\")\n",
    "        \n",
    "class class2(class1,class11): #multiple inheritance\n",
    "    def function3(self):\n",
    "        super().function2() #function2 coming from immediate parent\n",
    "        print(\"function2 from class 2\")\n",
    "    def function4(self):\n",
    "        print(\"function4 from class 2\")\n",
    "        \n",
    "cls2_obj = class2()\n",
    "cls2_obj.function3()\n"
   ]
  },
  {
   "cell_type": "markdown",
   "metadata": {},
   "source": [
    "# Monkey patching"
   ]
  },
  {
   "cell_type": "code",
   "execution_count": 94,
   "metadata": {},
   "outputs": [],
   "source": [
    "class original:\n",
    "    def origin_function1(self):\n",
    "        print(\"original function\")"
   ]
  },
  {
   "cell_type": "code",
   "execution_count": 95,
   "metadata": {},
   "outputs": [
    {
     "name": "stdout",
     "output_type": "stream",
     "text": [
      "original function\n"
     ]
    }
   ],
   "source": [
    "obj11 = original()\n",
    "obj11.origin_function1()"
   ]
  },
  {
   "cell_type": "code",
   "execution_count": 99,
   "metadata": {},
   "outputs": [],
   "source": [
    "def monkey_patched_function(self):\n",
    "    print(\"Monkey patched function\")"
   ]
  },
  {
   "cell_type": "code",
   "execution_count": 100,
   "metadata": {},
   "outputs": [],
   "source": [
    "original.origin_function1 = monkey_patched_function"
   ]
  },
  {
   "cell_type": "code",
   "execution_count": 101,
   "metadata": {},
   "outputs": [
    {
     "name": "stdout",
     "output_type": "stream",
     "text": [
      "Monkey patched function\n"
     ]
    }
   ],
   "source": [
    "obj11.origin_function1()"
   ]
  },
  {
   "cell_type": "code",
   "execution_count": 102,
   "metadata": {},
   "outputs": [],
   "source": [
    "#Quick fix for code\n",
    "#Dynamic modification of a class or module during runtime"
   ]
  },
  {
   "cell_type": "markdown",
   "metadata": {},
   "source": [
    "# Static method / Class method /Init\n",
    "\n",
    "#Decorators ==> Functions that extends the functionality of another functions (without explicitly changing its function)"
   ]
  },
  {
   "cell_type": "code",
   "execution_count": 117,
   "metadata": {},
   "outputs": [
    {
     "ename": "AttributeError",
     "evalue": "'Student' object has no attribute 'name'",
     "output_type": "error",
     "traceback": [
      "\u001b[1;31m---------------------------------------------------------------------------\u001b[0m",
      "\u001b[1;31mAttributeError\u001b[0m                            Traceback (most recent call last)",
      "\u001b[1;32m<ipython-input-117-3df623602423>\u001b[0m in \u001b[0;36m<module>\u001b[1;34m\u001b[0m\n\u001b[0;32m     13\u001b[0m \u001b[1;33m\u001b[0m\u001b[0m\n\u001b[0;32m     14\u001b[0m \u001b[0mobj_stud\u001b[0m \u001b[1;33m=\u001b[0m \u001b[0mStudent\u001b[0m\u001b[1;33m(\u001b[0m\u001b[1;33m)\u001b[0m\u001b[1;33m\u001b[0m\u001b[1;33m\u001b[0m\u001b[0m\n\u001b[1;32m---> 15\u001b[1;33m \u001b[0mobj_stud\u001b[0m\u001b[1;33m.\u001b[0m\u001b[0mlast_name\u001b[0m\u001b[1;33m(\u001b[0m\u001b[1;33m)\u001b[0m\u001b[1;31m#student name function not called which contains name attribute\u001b[0m\u001b[1;33m\u001b[0m\u001b[1;33m\u001b[0m\u001b[0m\n\u001b[0m\u001b[0;32m     16\u001b[0m \u001b[0mobj_stud\u001b[0m\u001b[1;33m.\u001b[0m\u001b[0mwelcome_message\u001b[0m\u001b[1;33m(\u001b[0m\u001b[1;33m)\u001b[0m\u001b[1;33m\u001b[0m\u001b[1;33m\u001b[0m\u001b[0m\n",
      "\u001b[1;32m<ipython-input-117-3df623602423>\u001b[0m in \u001b[0;36mlast_name\u001b[1;34m(self)\u001b[0m\n\u001b[0;32m      5\u001b[0m \u001b[1;33m\u001b[0m\u001b[0m\n\u001b[0;32m      6\u001b[0m     \u001b[1;32mdef\u001b[0m \u001b[0mlast_name\u001b[0m\u001b[1;33m(\u001b[0m\u001b[0mself\u001b[0m\u001b[1;33m)\u001b[0m\u001b[1;33m:\u001b[0m\u001b[1;33m\u001b[0m\u001b[1;33m\u001b[0m\u001b[0m\n\u001b[1;32m----> 7\u001b[1;33m         \u001b[0mvalue\u001b[0m \u001b[1;33m=\u001b[0m \u001b[0mself\u001b[0m\u001b[1;33m.\u001b[0m\u001b[0mname\u001b[0m\u001b[1;33m.\u001b[0m\u001b[0msplit\u001b[0m\u001b[1;33m(\u001b[0m\u001b[1;33m)\u001b[0m\u001b[1;33m\u001b[0m\u001b[1;33m\u001b[0m\u001b[0m\n\u001b[0m\u001b[0;32m      8\u001b[0m         \u001b[0mprint\u001b[0m\u001b[1;33m(\u001b[0m\u001b[0mvalue\u001b[0m\u001b[1;33m[\u001b[0m\u001b[1;33m-\u001b[0m\u001b[1;36m1\u001b[0m\u001b[1;33m]\u001b[0m\u001b[1;33m)\u001b[0m\u001b[1;33m\u001b[0m\u001b[1;33m\u001b[0m\u001b[0m\n\u001b[0;32m      9\u001b[0m \u001b[1;33m\u001b[0m\u001b[0m\n",
      "\u001b[1;31mAttributeError\u001b[0m: 'Student' object has no attribute 'name'"
     ]
    }
   ],
   "source": [
    "class Student:\n",
    "    def student_name(self):\n",
    "        self.name = \"virat kohli\"\n",
    "        print(\"Student Name is \", self.name)\n",
    "        \n",
    "    def last_name(self):\n",
    "        value = self.name.split()\n",
    "        print(value[-1])\n",
    "        \n",
    "    @staticmethod\n",
    "    def welcome_message():\n",
    "        print(\"Welcome to class\")\n",
    "        \n",
    "obj_stud = Student()\n",
    "obj_stud.last_name()#student name function not called which contains name attribute #Usage of init\n",
    "obj_stud.welcome_message()"
   ]
  },
  {
   "cell_type": "code",
   "execution_count": 118,
   "metadata": {},
   "outputs": [
    {
     "name": "stdout",
     "output_type": "stream",
     "text": [
      "Student Name is  virat kohli\n",
      "kohli\n",
      "Welcome to class\n"
     ]
    }
   ],
   "source": [
    "class Student:\n",
    "    def student_name(self):\n",
    "        self.name = \"virat kohli\"\n",
    "        print(\"Student Name is \", self.name)\n",
    "        \n",
    "    def last_name(self):\n",
    "        value = self.name.split()\n",
    "        print(value[-1])\n",
    "        \n",
    "    @staticmethod\n",
    "    def welcome_message():\n",
    "        print(\"Welcome to class\")\n",
    "        \n",
    "obj_stud = Student()\n",
    "obj_stud.student_name()\n",
    "obj_stud.last_name()\n",
    "obj_stud.welcome_message()"
   ]
  },
  {
   "cell_type": "code",
   "execution_count": 120,
   "metadata": {},
   "outputs": [
    {
     "name": "stdout",
     "output_type": "stream",
     "text": [
      "Student Name is  MS dhoni\n",
      "dhoni\n",
      "Welcome to class\n"
     ]
    }
   ],
   "source": [
    "#Init usage\n",
    "class Student:\n",
    "    def __init__(self):\n",
    "        self.name = \"MS dhoni\"\n",
    "        print(\"Student Name is \", self.name)\n",
    "    \n",
    "    def student_name(self):\n",
    "        self.name = \"virat kohli\"\n",
    "        print(\"Student Name is \", self.name)\n",
    "        \n",
    "    def last_name(self):\n",
    "        value = self.name.split()\n",
    "        print(value[-1])\n",
    "        \n",
    "    @staticmethod\n",
    "    def welcome_message():\n",
    "        print(\"Welcome to class\")\n",
    "        \n",
    "obj_stud = Student()\n",
    "obj_stud.last_name()\n",
    "obj_stud.welcome_message()"
   ]
  },
  {
   "cell_type": "code",
   "execution_count": null,
   "metadata": {},
   "outputs": [],
   "source": []
  },
  {
   "cell_type": "code",
   "execution_count": null,
   "metadata": {},
   "outputs": [],
   "source": []
  },
  {
   "cell_type": "markdown",
   "metadata": {},
   "source": [
    "# Access Modifiers or Access Specifiers"
   ]
  },
  {
   "cell_type": "code",
   "execution_count": 135,
   "metadata": {},
   "outputs": [
    {
     "name": "stdout",
     "output_type": "stream",
     "text": [
      "No of wheels  9\n",
      "Engine type of Volvo model Diesel\n"
     ]
    },
    {
     "data": {
      "text/plain": [
       "__main__.Volvo"
      ]
     },
     "execution_count": 135,
     "metadata": {},
     "output_type": "execute_result"
    }
   ],
   "source": [
    "class Car:\n",
    "    wheels = 9 #Public member\n",
    "    __horsepower = 4000 #Public member\n",
    "    _enginetype= \"Diesel\" #Private\n",
    "    \n",
    "class Volvo(Car):\n",
    "    def __init__(self):\n",
    "        print(\"No of wheels \",self.wheels)\n",
    "        #print(\"Volvo model horse power\", self.__horsepower) #Private member\n",
    "        #print(\"Volvo model horse power\", self._Car__horsepower) #Private member\n",
    "        print(\"Engine type of Volvo model\", self._enginetype) #Protected member\n",
    "    \n",
    "car_obj = Volvo()\n",
    "\n",
    "\n",
    "#main_obj = Car()\n",
    "#print(\"Private member call \", main_obj._Car__horsepower)\n",
    "#private member ==> _class__attribute"
   ]
  },
  {
   "cell_type": "code",
   "execution_count": 140,
   "metadata": {},
   "outputs": [
    {
     "name": "stdout",
     "output_type": "stream",
     "text": [
      "9\n",
      "Diesel\n"
     ]
    },
    {
     "ename": "AttributeError",
     "evalue": "type object 'Car' has no attribute '__horsepower'",
     "output_type": "error",
     "traceback": [
      "\u001b[1;31m---------------------------------------------------------------------------\u001b[0m",
      "\u001b[1;31mAttributeError\u001b[0m                            Traceback (most recent call last)",
      "\u001b[1;32m<ipython-input-140-8a78cf69dd40>\u001b[0m in \u001b[0;36m<module>\u001b[1;34m\u001b[0m\n\u001b[0;32m     13\u001b[0m \u001b[0mprint\u001b[0m\u001b[1;33m(\u001b[0m\u001b[0mCar\u001b[0m\u001b[1;33m.\u001b[0m\u001b[0mwheels\u001b[0m\u001b[1;33m)\u001b[0m\u001b[1;33m\u001b[0m\u001b[1;33m\u001b[0m\u001b[0m\n\u001b[0;32m     14\u001b[0m \u001b[0mprint\u001b[0m\u001b[1;33m(\u001b[0m\u001b[0mCar\u001b[0m\u001b[1;33m.\u001b[0m\u001b[0m_enginetype\u001b[0m\u001b[1;33m)\u001b[0m\u001b[1;33m\u001b[0m\u001b[1;33m\u001b[0m\u001b[0m\n\u001b[1;32m---> 15\u001b[1;33m \u001b[0mprint\u001b[0m\u001b[1;33m(\u001b[0m\u001b[0mCar\u001b[0m\u001b[1;33m.\u001b[0m\u001b[0m__horsepower\u001b[0m\u001b[1;33m)\u001b[0m\u001b[1;33m\u001b[0m\u001b[1;33m\u001b[0m\u001b[0m\n\u001b[0m\u001b[0;32m     16\u001b[0m \u001b[0mprint\u001b[0m\u001b[1;33m(\u001b[0m\u001b[0mCar\u001b[0m\u001b[1;33m.\u001b[0m\u001b[0m_Car__horsepower\u001b[0m\u001b[1;33m)\u001b[0m\u001b[1;33m\u001b[0m\u001b[1;33m\u001b[0m\u001b[0m\n",
      "\u001b[1;31mAttributeError\u001b[0m: type object 'Car' has no attribute '__horsepower'"
     ]
    }
   ],
   "source": [
    "class Car:\n",
    "    wheels = 9 #Public member\n",
    "    __horsepower = 4000 #Public member\n",
    "    _enginetype= \"Diesel\" #Private\n",
    "    \n",
    "class Volvo(Car):\n",
    "    def __init__(self):\n",
    "        print(\"No of wheels \",self.wheels)\n",
    "        #print(\"Volvo model horse power\", self.__horsepower) #Private member\n",
    "        #print(\"Volvo model horse power\", self._Car__horsepower) #Private member\n",
    "        print(\"Engine type of Volvo model\", self._enginetype) #Protected member\n",
    "    \n",
    "print(Car.wheels)\n",
    "print(Car._enginetype)\n",
    "#print(Car.__horsepower) #Wrong private attribute call\n",
    "print(Car._Car__horsepower) #Correct private attribute call"
   ]
  },
  {
   "cell_type": "markdown",
   "metadata": {},
   "source": [
    "# Polymorphism"
   ]
  },
  {
   "cell_type": "code",
   "execution_count": 141,
   "metadata": {},
   "outputs": [
    {
     "name": "stdout",
     "output_type": "stream",
     "text": [
      "18\n",
      "AWSCSA\n"
     ]
    }
   ],
   "source": [
    "#addition of two numbers and two strings (concatenation)\n",
    "\n",
    "print(9 + 9)\n",
    "\n",
    "print(\"AWS\" + \"CSA\")"
   ]
  },
  {
   "cell_type": "code",
   "execution_count": 144,
   "metadata": {},
   "outputs": [
    {
     "name": "stdout",
     "output_type": "stream",
     "text": [
      "90\n",
      "60\n"
     ]
    }
   ],
   "source": [
    "#polymorphism through function arguements\n",
    "\n",
    "def func1(a,b,z=10):\n",
    "    return a+b+z\n",
    "\n",
    "print(func1(20,30,40))\n",
    "print(func1(20,30))\n",
    "#Works with both two arguements and three arguements"
   ]
  },
  {
   "cell_type": "code",
   "execution_count": 145,
   "metadata": {},
   "outputs": [],
   "source": [
    "#Method overriding \n",
    "#Employee trainee working hours\n",
    "#Super reset "
   ]
  },
  {
   "cell_type": "code",
   "execution_count": null,
   "metadata": {},
   "outputs": [],
   "source": []
  },
  {
   "cell_type": "code",
   "execution_count": null,
   "metadata": {},
   "outputs": [],
   "source": [
    "#Diamond shape problem in multiple inheritance\n",
    "#A ==> B,C ==> D\n",
    "#Method resolution order (From above example, overriding)"
   ]
  },
  {
   "cell_type": "code",
   "execution_count": null,
   "metadata": {},
   "outputs": [],
   "source": []
  },
  {
   "cell_type": "code",
   "execution_count": 146,
   "metadata": {},
   "outputs": [],
   "source": [
    "#Overloading an operator"
   ]
  },
  {
   "cell_type": "code",
   "execution_count": 160,
   "metadata": {},
   "outputs": [
    {
     "name": "stdout",
     "output_type": "stream",
     "text": [
      "Sum of squares are,  240\n"
     ]
    }
   ],
   "source": [
    "class Square1:\n",
    "    def __init__(self, side):\n",
    "        self.side = side\n",
    "        \n",
    "    def __add__(value1, value2):\n",
    "        return (4 * value1.side + 4 * value2.side)\n",
    "        \n",
    "value1 = Square1(20)\n",
    "value2 = Square1(40)\n",
    "print(\"Sum of squares are, \", value1 + value2)\n",
    "        "
   ]
  },
  {
   "cell_type": "markdown",
   "metadata": {},
   "source": [
    "# Abstract Base Class (ABC)\n"
   ]
  },
  {
   "cell_type": "code",
   "execution_count": null,
   "metadata": {},
   "outputs": [],
   "source": []
  },
  {
   "cell_type": "code",
   "execution_count": null,
   "metadata": {},
   "outputs": [],
   "source": [
    "#Abstract Base Class (ABC)\n",
    "#https://docs.python.org/3/library/abc.html\n",
    "#https://www.geeksforgeeks.org/abstract-classes-in-python/\n",
    "#https://www.geeksforgeeks.org/encapsulation-in-python/\n",
    "#https://www.geeksforgeeks.org/types-of-inheritance-python/?ref=lbp\n",
    "#https://www.geeksforgeeks.org/python-super-in-single-inheritance/?ref=rp"
   ]
  }
 ],
 "metadata": {
  "kernelspec": {
   "display_name": "Python 3",
   "language": "python",
   "name": "python3"
  },
  "language_info": {
   "codemirror_mode": {
    "name": "ipython",
    "version": 3
   },
   "file_extension": ".py",
   "mimetype": "text/x-python",
   "name": "python",
   "nbconvert_exporter": "python",
   "pygments_lexer": "ipython3",
   "version": "3.7.6"
  }
 },
 "nbformat": 4,
 "nbformat_minor": 4
}
