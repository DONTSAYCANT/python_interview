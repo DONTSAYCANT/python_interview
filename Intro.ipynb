{
 "cells": [
  {
   "cell_type": "code",
   "execution_count": 1,
   "metadata": {},
   "outputs": [],
   "source": [
    "#Task: Into about hackerrank 3 pgms\n",
    "\n",
    "#print\n",
    "#Type\n",
    "#variable creation (Task rules)\n",
    "#Single line comment multi line comments\n",
    "#operators\n",
    "#input\n",
    "#Data type table (Task)\n",
    "#input"
   ]
  },
  {
   "cell_type": "code",
   "execution_count": 2,
   "metadata": {},
   "outputs": [
    {
     "name": "stdout",
     "output_type": "stream",
     "text": [
      "hi\n"
     ]
    }
   ],
   "source": [
    "print(\"hi\") #inbuilt function #function call #argument\n",
    "\n",
    "#function ==> small code for specific purpose def dec call"
   ]
  },
  {
   "cell_type": "code",
   "execution_count": 14,
   "metadata": {},
   "outputs": [
    {
     "name": "stdout",
     "output_type": "stream",
     "text": [
      "7\n",
      "val\n",
      "val\n",
      "I'm fine\n",
      "4.9\n",
      "True\n",
      "False\n",
      "<class 'bool'>\n"
     ]
    }
   ],
   "source": [
    "print(7)\n",
    "print(\"val\") #single quote double quote \n",
    "print('val')\n",
    "\n",
    "print('I\\'m fine')\n",
    "print(4.9)\n",
    "print(True)\n",
    "print(False)\n",
    "\n",
    "#type\n",
    "print(type(True))\n",
    "\n"
   ]
  },
  {
   "cell_type": "code",
   "execution_count": 22,
   "metadata": {},
   "outputs": [
    {
     "ename": "SyntaxError",
     "evalue": "can't assign to operator (<ipython-input-22-ddcec01ac8bb>, line 5)",
     "output_type": "error",
     "traceback": [
      "\u001b[1;36m  File \u001b[1;32m\"<ipython-input-22-ddcec01ac8bb>\"\u001b[1;36m, line \u001b[1;32m5\u001b[0m\n\u001b[1;33m    -val = 10\u001b[0m\n\u001b[1;37m             ^\u001b[0m\n\u001b[1;31mSyntaxError\u001b[0m\u001b[1;31m:\u001b[0m can't assign to operator\n"
     ]
    }
   ],
   "source": [
    "#Variable creation\n",
    "\n",
    "#variable creation rules in python 3\n",
    "\n",
    "_val = 10\n",
    "\n",
    "val = 10\n",
    "\n",
    "\n"
   ]
  },
  {
   "cell_type": "code",
   "execution_count": 18,
   "metadata": {},
   "outputs": [
    {
     "name": "stdout",
     "output_type": "stream",
     "text": [
      "10\t20\t30 "
     ]
    }
   ],
   "source": [
    "print(10, end=\"\\t\")\n",
    "print(20, end = \"\\t\")\n",
    "print(30, end = \" \")\n",
    "\n",
    "range(10): 0 1 2 3 4 5 6 7 8 9\n",
    "range(10,15)  10 11 12 13 14\n",
    "range(100,50,-1) 100 99 \n",
    "range(0,10,2)  0 2 4 6 8 \n",
    "\n",
    "\n",
    "#https://docs.python.org/3/library/functions.html"
   ]
  },
  {
   "cell_type": "code",
   "execution_count": 25,
   "metadata": {},
   "outputs": [
    {
     "name": "stdout",
     "output_type": "stream",
     "text": [
      "<class 'int'>\n",
      "15\n"
     ]
    }
   ],
   "source": [
    "a = 10\n",
    "print(type(a))\n",
    "\"\"\"\n",
    "print(12) #single line comment\n",
    "print(13) #multi line comment\n",
    "\"\"\"\n",
    "print(15)\n"
   ]
  },
  {
   "cell_type": "code",
   "execution_count": 26,
   "metadata": {},
   "outputs": [
    {
     "name": "stdout",
     "output_type": "stream",
     "text": [
      "hello\n",
      "jgonogngn \n",
      "ikn kb kjb fjk fn\n",
      "j kj kf \n"
     ]
    }
   ],
   "source": [
    "#printing multiple line \n",
    "print(\"\"\"hello\n",
    "jgonogngn \n",
    "ikn kb kjb fjk fn\n",
    "j kj kf \"\"\")"
   ]
  },
  {
   "cell_type": "code",
   "execution_count": 29,
   "metadata": {},
   "outputs": [
    {
     "name": "stdout",
     "output_type": "stream",
     "text": [
      "9\n",
      "<class 'int'>\n",
      "9.0\n",
      "<class 'float'>\n",
      "<class 'int'>\n"
     ]
    }
   ],
   "source": [
    "a = 9\n",
    "print(a)\n",
    "print(type(a))\n",
    "b = float(a)\n",
    "print(b)\n",
    "print(type(b))\n",
    "c= int(b)\n",
    "print(type(c))\n",
    "\n",
    "#float\n",
    "#int\n",
    "#bool\n",
    "#str\n",
    "\n",
    "     str int float bool\n",
    "str\n",
    "bool\n",
    "float\n",
    "int"
   ]
  },
  {
   "cell_type": "code",
   "execution_count": 5,
   "metadata": {},
   "outputs": [
    {
     "name": "stdout",
     "output_type": "stream",
     "text": [
      "778\n",
      "778\n",
      "<class 'str'>\n"
     ]
    }
   ],
   "source": [
    "a = 10\n",
    "b = \"str1\"\n",
    "\n",
    "#input ==> dynamic input from user\n",
    "\n",
    "c = input() #input by default get string from user\n",
    "print(c)\n",
    "print(type(c))"
   ]
  },
  {
   "cell_type": "code",
   "execution_count": 10,
   "metadata": {},
   "outputs": [
    {
     "name": "stdout",
     "output_type": "stream",
     "text": [
      "34\n",
      "34\n",
      "<class 'int'>\n"
     ]
    }
   ],
   "source": [
    "c = int(input()) #input by default get string from user\n",
    "print(c)\n",
    "print(type(c))"
   ]
  },
  {
   "cell_type": "code",
   "execution_count": 11,
   "metadata": {},
   "outputs": [
    {
     "name": "stdout",
     "output_type": "stream",
     "text": [
      "6\n"
     ]
    }
   ],
   "source": [
    "a = \"python\"\n",
    "print(len(a))"
   ]
  },
  {
   "cell_type": "code",
   "execution_count": null,
   "metadata": {},
   "outputs": [],
   "source": [
    "#Five programs:\n",
    "\n",
    "Program1:\n",
    "    \n",
    "Input: god bless you more gggod aaao\n",
    "Output:aaa0 gggod bless god more you\n",
    "    \n",
    "#Arrange based on number of duplicates\n",
    "#If no of duplicates are equal, arranage it in alpha\n",
    "program to sort the strings based on number of duplicates.. If both strings have same duplicates then should print lexicographical order\n",
    "\n",
    "Program2:\n",
    "    \n",
    "{}[]() ==> Parenthesis matcher\n",
    "\n",
    "Program3:\n",
    "    \n",
    "Exception Hacker rank program\n",
    "\n",
    "Program4:\n",
    "    \n",
    "captain's room\n",
    "\n",
    "Program5:\n",
    "    \n",
    "https://leetcode.com/explore/challenge/card/30-day-leetcoding-challenge/528/week-1/3285/"
   ]
  },
  {
   "cell_type": "code",
   "execution_count": null,
   "metadata": {},
   "outputs": [],
   "source": [
    "Input: god bless you more gggod aaao\n",
    "Output:aaa0 gggod bless god more you\n",
    "    \n",
    "#Arrange based on number of duplicates\n",
    "#If no of duplicates are equal, arranage it in alpha\n",
    "program to sort the strings based on number of duplicates.. If both strings have same duplicates then should print lexicographical order"
   ]
  },
  {
   "cell_type": "code",
   "execution_count": 1,
   "metadata": {},
   "outputs": [
    {
     "name": "stdout",
     "output_type": "stream",
     "text": [
      "['god', 'bless', 'you', 'more']\n"
     ]
    }
   ],
   "source": [
    "val = \"god bless you more\"\n",
    "tmp1 = val.split()\n",
    "print(tmp1)\n",
    "\n",
    "\n",
    "\n"
   ]
  },
  {
   "cell_type": "code",
   "execution_count": 6,
   "metadata": {},
   "outputs": [
    {
     "name": "stdout",
     "output_type": "stream",
     "text": [
      "a4b3c6d3a2\n"
     ]
    }
   ],
   "source": [
    "\n",
    "str1 = \"aaaabbbccccccdddaa\"\n",
    "\n",
    "\n",
    "flag1 = str1[0]\n",
    "flag2 = 0\n",
    "output = \"\"\n",
    "count = 0\n",
    "\n",
    "for i in str1:\n",
    "    if count == len(str1)-1:\n",
    "        output = output + flag1 + str(len(str1[flag2:]))\n",
    "    if i != flag1:\n",
    "        output = output + flag1 + str(len(str1[flag2:count]))\n",
    "        flag1 = i\n",
    "        flag2 = count\n",
    "    count = count + 1\n",
    "\n",
    "print(output)\n",
    "\n",
    "#aaaabbbc"
   ]
  },
  {
   "cell_type": "code",
   "execution_count": 3,
   "metadata": {},
   "outputs": [
    {
     "name": "stdout",
     "output_type": "stream",
     "text": [
      "('call',)\n",
      "<class 'tuple'>\n"
     ]
    }
   ],
   "source": [
    "a = (\"call\",)\n",
    "print(a)\n",
    "print(type(a))"
   ]
  },
  {
   "cell_type": "code",
   "execution_count": null,
   "metadata": {},
   "outputs": [],
   "source": [
    "#{}[]() ==> Parenthesis matcher"
   ]
  },
  {
   "cell_type": "markdown",
   "metadata": {},
   "source": [
    "## Dec 29"
   ]
  },
  {
   "cell_type": "code",
   "execution_count": 9,
   "metadata": {},
   "outputs": [
    {
     "name": "stdout",
     "output_type": "stream",
     "text": [
      "6\n"
     ]
    }
   ],
   "source": [
    "nums = [-2,1,-3,4,-1,2,1,-5,4]\n",
    "\n",
    "curSum = maxSum = nums[0]\n",
    "for val in nums[1 : ]:\n",
    "    curSum = max(val, curSum + val)  \n",
    "    maxSum = max(maxSum, curSum)\n",
    "    \n",
    "print(maxSum)\n"
   ]
  },
  {
   "cell_type": "code",
   "execution_count": null,
   "metadata": {},
   "outputs": [],
   "source": [
    "#https://www.geeksforgeeks.org/copy-python-deep-copy-shallow-copy/ #shallow and deep copy\n",
    "#https://www.geeksforgeeks.org/timsort/ (combination of insertion sort and merger sort : sort and sorted)\n",
    "#https://www.geeksforgeeks.org/python-a-b-is-not-always-a-a-b/"
   ]
  },
  {
   "cell_type": "code",
   "execution_count": null,
   "metadata": {},
   "outputs": [],
   "source": [
    "#Tasks:\n",
    "\n",
    "#https://www.hackerrank.com/challenges/whats-your-name\n",
    "#https://www.hackerrank.com/challenges/python-mutations/problem"
   ]
  },
  {
   "cell_type": "code",
   "execution_count": null,
   "metadata": {},
   "outputs": [],
   "source": [
    "##references:\n",
    "\n",
    "#https://docs.python.org/2.5/lib/string-methods.html\n",
    "#https://www.w3schools.com/python/python_ref_string.asp"
   ]
  },
  {
   "cell_type": "code",
   "execution_count": null,
   "metadata": {},
   "outputs": [],
   "source": [
    "#[longest palindrome substring] https://leetcode.com/problems/longest-palindromic-substring/\n",
    "#https://leetcode.com/explore/challenge/card/30-day-leetcoding-challenge/530/week-3/3301/\n",
    "#\n",
    "#\n",
    "\n",
    "[2,3,4,5,1,9,10] Target: 30"
   ]
  },
  {
   "cell_type": "code",
   "execution_count": null,
   "metadata": {},
   "outputs": [],
   "source": [
    "#prime number \n",
    "#cumulative + sum\n",
    "#password check\n",
    "\n",
    "\n",
    "#prime number\n",
    "\n",
    "#i. get a list from user  [5,7,100,-24,0,-35, 22]\n",
    "#prime []  ==> starts from 2 and divisible only itself composite[]\n",
    "\n",
    "7 2 3 4 5 6\n",
    "\n",
    "#ii cumulative sum:\n",
    "\n",
    "get a list  [13,14,16,22,9] ==> dynamic\n",
    "\n",
    "\n",
    "[74]\n",
    "[11]\n",
    "[2]\n",
    "\n",
    "answer: 2\n",
    "    \n",
    "iii, get one string from user:\n",
    "\n",
    "lenght >= 10\n",
    "one alphabet small\n",
    "one upper case\n",
    "one number\n",
    "one special character &_-\n",
    "\n"
   ]
  },
  {
   "cell_type": "code",
   "execution_count": 13,
   "metadata": {},
   "outputs": [
    {
     "name": "stdout",
     "output_type": "stream",
     "text": [
      "5\n",
      "5\n"
     ]
    }
   ],
   "source": [
    "a = {1 : \"physics\", 2 : \"chemistry\", 3: \"Economics\", 4:\"Civics\", 5:\"Zoology\"}\n",
    "\n",
    "\n",
    "print(list(a.keys())[list(a.values()).index(\"Zoology\")])\n",
    "\n",
    "for i in a.keys():\n",
    "    if a[i] in \"Zoology\":\n",
    "        print(i)\n",
    "        "
   ]
  },
  {
   "cell_type": "code",
   "execution_count": null,
   "metadata": {},
   "outputs": [],
   "source": [
    "\n",
    "#Jan 1 problems\n",
    "#Fibonacci  0,1,1,2,3,5,8,13,21 ===? 0,1,1,4,3,25\n",
    "#https://www.hackerrank.com/challenges/two-strings/problem?h_l=interview&playlist_slugs%5B%5D=virtusa\n",
    "#https://www.hackerrank.com/challenges/alternating-characters/problem?h_l=interview&playlist_slugs%5B%5D=virtusa\n",
    "\n",
    "\n",
    "\n",
    "#Jan1 Tasks\n",
    "#Task: https://www.hackerrank.com/challenges/picking-numbers/problem\n",
    "#list of numbers: 0,2,4,5,4,3,2,6,3,2,5,4 <=1 continous 4,5,4,3,2 ans 5\n",
    "#https://www.hackerrank.com/challenges/detect-the-domain-name/problem"
   ]
  },
  {
   "cell_type": "code",
   "execution_count": 22,
   "metadata": {},
   "outputs": [
    {
     "name": "stdout",
     "output_type": "stream",
     "text": [
      "5\n",
      "3\n",
      "1\n",
      "1\n",
      "1\n",
      "1\n",
      "true\n",
      "[]\n"
     ]
    }
   ],
   "source": [
    "s = \"[{()}]\"\n",
    "\n",
    "s = s.replace(\"*\", \"\")\n",
    "s = list(s)\n",
    "v = s.copy()\n",
    "a = len(s)\n",
    "while a > 0:\n",
    "    for i in range(1,len(s)):\n",
    "        if s[i] == \")\" and s[i-1] == \"(\":\n",
    "            v.pop(i)\n",
    "            v.pop(i-1)\n",
    "        elif s[i] == \"}\" and s[i-1] == \"{\":\n",
    "            v.pop(i)\n",
    "            v.pop(i-1)\n",
    "        elif s[i] == \"]\" and s[i-1] == \"[\":\n",
    "            v.pop(i)\n",
    "            v.pop(i-1)\n",
    "    print(i)\n",
    "    a = a - 1\n",
    "    s = \"\".join(v)\n",
    "if len(v) == 0:\n",
    "    print(\"true\")\n",
    "else:\n",
    "    print(\"false\")\n",
    "print(v)"
   ]
  },
  {
   "cell_type": "code",
   "execution_count": null,
   "metadata": {},
   "outputs": [],
   "source": []
  }
 ],
 "metadata": {
  "kernelspec": {
   "display_name": "Python 3",
   "language": "python",
   "name": "python3"
  },
  "language_info": {
   "codemirror_mode": {
    "name": "ipython",
    "version": 3
   },
   "file_extension": ".py",
   "mimetype": "text/x-python",
   "name": "python",
   "nbconvert_exporter": "python",
   "pygments_lexer": "ipython3",
   "version": "3.7.6"
  }
 },
 "nbformat": 4,
 "nbformat_minor": 4
}
