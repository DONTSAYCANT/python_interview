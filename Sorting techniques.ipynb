{
 "cells": [
  {
   "cell_type": "code",
   "execution_count": null,
   "metadata": {},
   "outputs": [],
   "source": [
    "#https://www.geeksforgeeks.org/time-complexities-of-all-sorting-algorithms/"
   ]
  },
  {
   "cell_type": "markdown",
   "metadata": {},
   "source": [
    "# Bubble sort"
   ]
  },
  {
   "cell_type": "code",
   "execution_count": 3,
   "metadata": {},
   "outputs": [],
   "source": [
    "#https://www.geeksforgeeks.org/bubble-sort/"
   ]
  },
  {
   "cell_type": "code",
   "execution_count": 53,
   "metadata": {},
   "outputs": [
    {
     "name": "stdout",
     "output_type": "stream",
     "text": [
      "[8, 9, 6, 7, 5, 6, 1, 2]\n",
      "[8, 6, 9, 7, 5, 6, 1, 2]\n",
      "[8, 6, 7, 9, 5, 6, 1, 2]\n",
      "[8, 6, 7, 5, 9, 6, 1, 2]\n",
      "[8, 6, 7, 5, 6, 9, 1, 2]\n",
      "[8, 6, 7, 5, 6, 1, 9, 2]\n",
      "[8, 6, 7, 5, 6, 1, 2, 9]\n",
      "Pass strating\n",
      "[6, 8, 7, 5, 6, 1, 2, 9]\n",
      "[6, 7, 8, 5, 6, 1, 2, 9]\n",
      "[6, 7, 5, 8, 6, 1, 2, 9]\n",
      "[6, 7, 5, 6, 8, 1, 2, 9]\n",
      "[6, 7, 5, 6, 1, 8, 2, 9]\n",
      "[6, 7, 5, 6, 1, 2, 8, 9]\n",
      "Pass strating\n",
      "[6, 7, 5, 6, 1, 2, 8, 9]\n",
      "[6, 5, 7, 6, 1, 2, 8, 9]\n",
      "[6, 5, 6, 7, 1, 2, 8, 9]\n",
      "[6, 5, 6, 1, 7, 2, 8, 9]\n",
      "[6, 5, 6, 1, 2, 7, 8, 9]\n",
      "Pass strating\n",
      "[5, 6, 6, 1, 2, 7, 8, 9]\n",
      "[5, 6, 6, 1, 2, 7, 8, 9]\n",
      "[5, 6, 1, 6, 2, 7, 8, 9]\n",
      "[5, 6, 1, 2, 6, 7, 8, 9]\n",
      "Pass strating\n",
      "[5, 6, 1, 2, 6, 7, 8, 9]\n",
      "[5, 1, 6, 2, 6, 7, 8, 9]\n",
      "[5, 1, 2, 6, 6, 7, 8, 9]\n",
      "Pass strating\n",
      "[1, 5, 2, 6, 6, 7, 8, 9]\n",
      "[1, 2, 5, 6, 6, 7, 8, 9]\n",
      "Pass strating\n",
      "[1, 2, 5, 6, 6, 7, 8, 9]\n",
      "Pass strating\n",
      "Pass strating\n",
      "final answer  [1, 2, 5, 6, 6, 7, 8, 9]\n"
     ]
    }
   ],
   "source": [
    "val = [9,8,6,7,5,6,1,2]\n",
    "\n",
    "\n",
    "for i in range(len(val)):\n",
    "    for j in range(0, len(val)-i-1):\n",
    "        if val[j] > val[j+1]:\n",
    "            val[j],val[j+1] = val[j+1],val[j]\n",
    "        print(val)\n",
    "    print(\"Pass strating\")\n",
    "print(\"final answer \",val)\n",
    "            \n",
    "        \n",
    "\n"
   ]
  },
  {
   "cell_type": "code",
   "execution_count": 25,
   "metadata": {},
   "outputs": [],
   "source": [
    "#more swaps \n",
    "#more time"
   ]
  },
  {
   "cell_type": "markdown",
   "metadata": {},
   "source": [
    "# Selection sort"
   ]
  },
  {
   "cell_type": "code",
   "execution_count": 54,
   "metadata": {},
   "outputs": [
    {
     "name": "stdout",
     "output_type": "stream",
     "text": [
      "[9, 4, 7, 5, 6, 1, 2, 8]\n",
      "[4, 9, 7, 5, 6, 1, 2, 8]\n",
      "[4, 9, 7, 5, 6, 1, 2, 8]\n",
      "[4, 9, 7, 5, 6, 1, 2, 8]\n",
      "[4, 9, 7, 5, 6, 1, 2, 8]\n",
      "[1, 9, 7, 5, 6, 4, 2, 8]\n",
      "[1, 9, 7, 5, 6, 4, 2, 8]\n",
      "Pass starting\n",
      "[1, 9, 7, 5, 6, 4, 2, 8]\n",
      "[1, 7, 9, 5, 6, 4, 2, 8]\n",
      "[1, 5, 9, 7, 6, 4, 2, 8]\n",
      "[1, 5, 9, 7, 6, 4, 2, 8]\n",
      "[1, 4, 9, 7, 6, 5, 2, 8]\n",
      "[1, 2, 9, 7, 6, 5, 4, 8]\n",
      "Pass starting\n",
      "[1, 2, 9, 7, 6, 5, 4, 8]\n",
      "[1, 2, 7, 9, 6, 5, 4, 8]\n",
      "[1, 2, 6, 9, 7, 5, 4, 8]\n",
      "[1, 2, 5, 9, 7, 6, 4, 8]\n",
      "[1, 2, 4, 9, 7, 6, 5, 8]\n",
      "Pass starting\n",
      "[1, 2, 4, 9, 7, 6, 5, 8]\n",
      "[1, 2, 4, 7, 9, 6, 5, 8]\n",
      "[1, 2, 4, 6, 9, 7, 5, 8]\n",
      "[1, 2, 4, 5, 9, 7, 6, 8]\n",
      "Pass starting\n",
      "[1, 2, 4, 5, 9, 7, 6, 8]\n",
      "[1, 2, 4, 5, 7, 9, 6, 8]\n",
      "[1, 2, 4, 5, 6, 9, 7, 8]\n",
      "Pass starting\n",
      "[1, 2, 4, 5, 6, 9, 7, 8]\n",
      "[1, 2, 4, 5, 6, 7, 9, 8]\n",
      "Pass starting\n",
      "[1, 2, 4, 5, 6, 7, 9, 8]\n",
      "Pass starting\n",
      "Pass starting\n",
      "[1, 2, 4, 5, 6, 7, 8, 9]\n"
     ]
    }
   ],
   "source": [
    "#min value only swap in each iteration\n",
    "#https://www.geeksforgeeks.org/python-program-for-selection-sort/\n",
    "#Minimum value will start settle from list beginning\n",
    "\n",
    "#9,4,7,5,6,1,2,8\n",
    "#min = 9\n",
    "\n",
    "\n",
    "val = [9,4,7,5,6,1,2,8]\n",
    "\n",
    "for i in range(len(val)):\n",
    "    for j in range(i+1,len(val)):\n",
    "        print(val)\n",
    "        if val[i] > val[j]:\n",
    "            tmp = val[i]\n",
    "            val[i] = val[j]\n",
    "            val[j] = tmp   \n",
    "    print(\"Pass starting\")\n",
    "print(val)\n",
    "    "
   ]
  },
  {
   "cell_type": "markdown",
   "metadata": {},
   "source": [
    "# Insertion Sort"
   ]
  },
  {
   "cell_type": "code",
   "execution_count": 48,
   "metadata": {},
   "outputs": [
    {
     "name": "stdout",
     "output_type": "stream",
     "text": [
      "[9, 4, 7, 5, 6, 1, 2, 8]\n",
      "[4, 9, 7, 5, 6, 1, 2, 8]\n",
      "[4, 7, 9, 5, 6, 1, 2, 8]\n",
      "[4, 5, 7, 9, 6, 1, 2, 8]\n",
      "[4, 5, 6, 7, 9, 1, 2, 8]\n",
      "[1, 4, 5, 6, 7, 9, 2, 8]\n",
      "[1, 2, 4, 5, 6, 7, 9, 8]\n"
     ]
    }
   ],
   "source": [
    "#https://www.geeksforgeeks.org/insertion-sort/\n",
    "\n",
    "val = [9,4,7,5,6,1,2,8]\n",
    "\n",
    "for i in range(1,len(val)):\n",
    "    in_mid = val[i] #anchor ==> unsorted array\n",
    "    j = i - 1\n",
    "    print(val)\n",
    "    while j >= 0 and in_mid < val[j]:\n",
    "        val[j+1] = val[j]\n",
    "        j = j - 1\n",
    "    val[j+1] = in_mid\n",
    "    #print(val)\n",
    "#sorted array / Unsorted array"
   ]
  },
  {
   "cell_type": "markdown",
   "metadata": {},
   "source": [
    "# Merge sort"
   ]
  },
  {
   "cell_type": "code",
   "execution_count": null,
   "metadata": {},
   "outputs": [],
   "source": [
    "#geeksforgeeks.org/python-program-for-merge-sort/\n",
    "\n",
    "\n",
    "#[9, 4, 7, 5, 6, 1, 2, 8]\n",
    "\n",
    "#Divide and conquer \n",
    "#Recursive approach\n",
    "\n",
    "#split ==> recursion \n",
    "#join \n",
    "\n",
    "\n"
   ]
  },
  {
   "cell_type": "code",
   "execution_count": null,
   "metadata": {},
   "outputs": [],
   "source": [
    "#Tim sort: https://www.geeksforgeeks.org/timsort/\n",
    "\n",
    "#Combination of merge and insertion sort"
   ]
  },
  {
   "cell_type": "code",
   "execution_count": null,
   "metadata": {},
   "outputs": [],
   "source": [
    "#Radix sort bucket sort quick sort Heap sort "
   ]
  },
  {
   "cell_type": "markdown",
   "metadata": {},
   "source": [
    "# Quick sort"
   ]
  },
  {
   "cell_type": "code",
   "execution_count": null,
   "metadata": {},
   "outputs": [],
   "source": [
    "#pivot element\n",
    "#https://www.geeksforgeeks.org/python-program-for-quicksort/\n",
    "\n",
    "Step 1:\n",
    "pivot identification, can be first element / middle / last element or median of three\n",
    "\n",
    "Step 2:\n",
    "elements less than pivot .......  pivot ..... elements greater than pivot\n",
    "\n",
    "Step 3:\n",
    "Partitioning\n",
    "\n",
    "Step 4:\n",
    "    Repeat until i < j\n",
    "        val[i] <= pivot\n",
    "        val[j] > pivot\n",
    "        \n",
    "    else swap (val[i], val[j])\n",
    "    \n",
    "    \n",
    "    \n",
    "    \n",
    "    \n"
   ]
  },
  {
   "cell_type": "code",
   "execution_count": null,
   "metadata": {},
   "outputs": [],
   "source": [
    "#Radix/Bucket sort\n",
    "#https://www.geeksforgeeks.org/bucket-sort-2/\n",
    "\n",
    "#Larger number identification\n",
    "#No of iterations == No of digits in the larger number\n",
    "#Create 10 buckets from 0 to 9"
   ]
  },
  {
   "cell_type": "code",
   "execution_count": null,
   "metadata": {},
   "outputs": [],
   "source": [
    "Heap sort\n",
    "\n",
    "#max heap\n",
    "#parent not larger element\n",
    "#after one pass swap high and low\n",
    "#next iteration remove max from heap"
   ]
  }
 ],
 "metadata": {
  "kernelspec": {
   "display_name": "Python 3",
   "language": "python",
   "name": "python3"
  },
  "language_info": {
   "codemirror_mode": {
    "name": "ipython",
    "version": 3
   },
   "file_extension": ".py",
   "mimetype": "text/x-python",
   "name": "python",
   "nbconvert_exporter": "python",
   "pygments_lexer": "ipython3",
   "version": "3.7.6"
  }
 },
 "nbformat": 4,
 "nbformat_minor": 4
}
