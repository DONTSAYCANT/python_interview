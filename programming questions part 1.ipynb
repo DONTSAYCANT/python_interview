{
 "cells": [
  {
   "cell_type": "code",
   "execution_count": null,
   "metadata": {},
   "outputs": [],
   "source": [
    "#Geeks for Geeks:\n",
    "\n",
    "#https://www.geeksforgeeks.org/python-programming-language/\n",
    "#https://www.geeksforgeeks.org/python-programming-examples/\n",
    "\n",
    "\n",
    "#December 23 Tasks:\n",
    "\n",
    "#pgm1: https://www.hackerrank.com/challenges/ctci-making-anagrams/problem?h_l=interview&playlist_slugs%5B%5D=interview-preparation-kit&playlist_slugs%5B%5D=strings\n",
    "#pgm2: https://www.hackerrank.com/challenges/finding-the-percentage/problem\n",
    "\n",
    "#Read: https://docs.python.org/3/library/functions.html\n",
    "\n",
    "\n",
    "\n",
    "\n"
   ]
  }
 ],
 "metadata": {
  "kernelspec": {
   "display_name": "Python 3",
   "language": "python",
   "name": "python3"
  },
  "language_info": {
   "codemirror_mode": {
    "name": "ipython",
    "version": 3
   },
   "file_extension": ".py",
   "mimetype": "text/x-python",
   "name": "python",
   "nbconvert_exporter": "python",
   "pygments_lexer": "ipython3",
   "version": "3.7.6"
  }
 },
 "nbformat": 4,
 "nbformat_minor": 4
}
