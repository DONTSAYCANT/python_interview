{
 "cells": [
  {
   "cell_type": "code",
   "execution_count": null,
   "metadata": {},
   "outputs": [],
   "source": [
    "#Geeks for Geeks:\n",
    "\n",
    "#https://www.geeksforgeeks.org/python-programming-language/\n",
    "#https://www.geeksforgeeks.org/python-programming-examples/\n",
    "\n",
    "\n",
    "#December 23 Tasks:\n",
    "\n",
    "#pgm1: https://www.hackerrank.com/challenges/ctci-making-anagrams/problem?h_l=interview&playlist_slugs%5B%5D=interview-preparation-kit&playlist_slugs%5B%5D=strings\n",
    "#pgm2: https://www.hackerrank.com/challenges/finding-the-percentage/problem\n",
    "\n",
    "#Read: https://docs.python.org/3/library/functions.html\n",
    "\n",
    "#December 24 Tasks:\n",
    "\n",
    "#https://leetcode.com/explore/challenge/card/30-day-leetcoding-challenge/528/week-1/3286/\n",
    "#https://leetcode.com/explore/challenge/card/30-day-leetcoding-challenge/528/week-1/3288/\n",
    "#https://www.hackerrank.com/challenges/find-a-string/problem\n",
    "\n",
    "#read: github\n",
    "#Tasks1:\n",
    "\n",
    "\"computer_science\"\n",
    "\n",
    "#[-2:0:-1]\n",
    "#[5:-5:5]\n",
    "#[-5:5:-5]\n",
    "#[5:-5:-5]\n",
    "#[3:9:-1]\n",
    "#[9:-10:-2]\n",
    "#[2:-4:-4]\n",
    "#[-4:2:-2]\n",
    "#[0:-1:-3]\n",
    "#[-3:3:6]\n",
    "#[::-3]\n",
    "#[::-2]\n",
    "#[2:-2:-2]\n",
    "#[2:-2:2]\n",
    "#[5:-5:5]\n",
    "#[3:-3:3]\n",
    "#[::2]\n",
    "#[::-5]\n",
    "    \n",
    "\n",
    "\n",
    "\n",
    "\n",
    "\n",
    "\n"
   ]
  },
  {
   "cell_type": "code",
   "execution_count": null,
   "metadata": {},
   "outputs": [],
   "source": []
  }
 ],
 "metadata": {
  "kernelspec": {
   "display_name": "Python 3",
   "language": "python",
   "name": "python3"
  },
  "language_info": {
   "codemirror_mode": {
    "name": "ipython",
    "version": 3
   },
   "file_extension": ".py",
   "mimetype": "text/x-python",
   "name": "python",
   "nbconvert_exporter": "python",
   "pygments_lexer": "ipython3",
   "version": "3.7.6"
  }
 },
 "nbformat": 4,
 "nbformat_minor": 4
}
